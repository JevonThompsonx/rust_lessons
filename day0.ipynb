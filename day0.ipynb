{
 "cells": [
  {
   "cell_type": "code",
   "execution_count": 8,
   "id": "2c470c24-2889-4c06-800f-4f5698f2cc39",
   "metadata": {},
   "outputs": [
    {
     "name": "stdout",
     "output_type": "stream",
     "text": [
      "Hi this is day 0 of learning rust. It's mostly to check that the code runs\n",
      "\n",
      "\n",
      "For note taking purposes ofc. There are more lines of code in the dedicated folders\n"
     ]
    },
    {
     "data": {
      "text/plain": [
       "()"
      ]
     },
     "execution_count": 8,
     "metadata": {},
     "output_type": "execute_result"
    }
   ],
   "source": [
    "fn say_hello(){ \n",
    "    println!(\"Hi this is day 0 of learning rust. It\\'s mostly to check that the code runs\");\n",
    "    println!(\"\\n\");\n",
    "    println!(\"For note taking purposes ofc. There are more lines of code in the dedicated folders\");\n",
    "}\n",
    "say_hello()"
   ]
  },
  {
   "cell_type": "code",
   "execution_count": null,
   "id": "7fbe833f-001d-42ed-8a15-3dacc67de16d",
   "metadata": {},
   "outputs": [],
   "source": []
  }
 ],
 "metadata": {
  "kernelspec": {
   "display_name": "Rust",
   "language": "rust",
   "name": "rust"
  },
  "language_info": {
   "codemirror_mode": "rust",
   "file_extension": ".rs",
   "mimetype": "text/rust",
   "name": "Rust",
   "pygment_lexer": "rust",
   "version": ""
  }
 },
 "nbformat": 4,
 "nbformat_minor": 5
}
